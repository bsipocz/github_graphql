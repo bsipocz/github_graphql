{
 "cells": [
  {
   "cell_type": "code",
   "execution_count": 1,
   "metadata": {},
   "outputs": [],
   "source": [
    "import numpy as np"
   ]
  },
  {
   "cell_type": "markdown",
   "metadata": {},
   "source": [
    "# Exploring NumPy's Issues with the GitHub GraphQL API"
   ]
  },
  {
   "cell_type": "markdown",
   "metadata": {},
   "source": [
    "Like most open source projects, NumPy has many open issues and pull requests that require developer attention, and not nearly enough developer-hours to address them all. Even the simple task of reading through the issues/PRs would take hours as there are on the order of 1000 open issues and ~200 open PR's for NumPy (as of 1/2020). Thus it might be worthwhile to attempt some sort of analysis to determine the relative *importance* of the open issues. \n",
    "\n",
    "A simple idea would be to look at the number of times any given issue has been cross-referenced as a weak proxy for *importance*, i.e. how often is a particular concept referenced by other developers. A question like this seems like a good match for GitHub's new [GraphQL API](https://developer.github.com/v4/guides/intro-to-graphql/). Note the API is not really about building graphs but rather a different way of formulating queries of GitHub's data. Nevertheless the GraphQL API seems to be well-suited for the type of question we are interested in asking, as it is natural to think of issues as *nodes* and cross-references as *edges*."
   ]
  },
  {
   "cell_type": "markdown",
   "metadata": {},
   "source": [
    "## Getting started with GraphQL\n",
    "\n",
    "I had never heard about GraphQL (and am certainly no expert in database querying), but I found the [Intro to GitHub's GraphQL API](https://developer.github.com/v4/guides/intro-to-graphql/) to be very accessible. \n",
    "\n",
    "The [Github GraphQL Explorer](https://developer.github.com/v4/explorer/) is super useful for building your own queries."
   ]
  },
  {
   "cell_type": "markdown",
   "metadata": {},
   "source": [
    "## The question\n",
    "\n",
    "It helps to have a clear statement of the question we want answered. The simplest statement of our question would be\n",
    "\n",
    "> *How many times has each open issue in the numpy repo been cross-referenced?*\n",
    "\n",
    "If we cast this question in terms of our simple graph model (open issues as *nodes* and cross-references as *edges*), it is clear that we can find the answer by counting the number of edges connected to each node!\n",
    "\n",
    "Of course there are a ton of ways that we could modify this question to make it more specific, necessitating a more complicated query to answer it. We'll get there, but let's start simple."
   ]
  },
  {
   "cell_type": "markdown",
   "metadata": {},
   "source": [
    "## Formulating a query to address the question"
   ]
  },
  {
   "cell_type": "markdown",
   "metadata": {},
   "source": [
    "I started by loading the [sample query](https://developer.github.com/v4/guides/forming-calls/#example-query) into the explorer and slowly modifying the query by looking up features in the [schema reference](https://developer.github.com/v4/). This eventually crystallized into the following query:\n",
    "\n",
    "```\n",
    "query {                                                                        \n",
    "  repository(owner:\"numpy\", name:\"numpy\") {                                     \n",
    "    issues(first:100 states:OPEN) {                                             \n",
    "      edges {                                                                   \n",
    "        node {\n",
    "          number\n",
    "          timelineItems(first:100, itemTypes:CROSS_REFERENCED_EVENT){            \n",
    "            totalCount                                                          \n",
    "          }                                                                     \n",
    "        }                                                                       \n",
    "      }                                                                         \n",
    "    }                                                                           \n",
    "  }                                                                             \n",
    "}\n",
    "```\n",
    "\n",
    "Paste the above into the [explorer](https://developer.github.com/v4/explorer/) to get proper syntax highlighting.\n",
    "\n",
    "Building the graph of issues is [covered in the original example](https://developer.github.com/v4/guides/forming-calls/#example-query), so I'll only elaborate on the part that's different: the timelineItems.\n",
    "\n",
    "Note that `issues` is of type [IssueConnection](https://developer.github.com/v4/object/issueconnection/) which naturally terminates on nodes of type [Issue](https://developer.github.com/v4/object/issue/). The Issue object stores the issue number in `number` and has a [timelineItems](https://developer.github.com/v4/object/issuetimelineitemsconnection/) connection that lists all the edges to events (commits, comments, references, etc.) associated with that issue. Furthermore, the `timelineItems` connection implements a filter on the [itemType](https://developer.github.com/v4/enum/issuetimelineitemsitemtype/). This allows us to only follow along connections to nodes that represent cross-reference events (as opposed to commits, comments, etc.).\n",
    "\n",
    "Finally, the GraphQL query must terminate in scalar values. Fortunately, the `timelineItems` connection implements a `totalCount` attribute that gives us an integer value of the total number of connections. In conjunction with the `itemTypes:CROSS_REFERENCED_EVENTS` filter, this value represents the total number of cross-reference events for each issue."
   ]
  },
  {
   "cell_type": "markdown",
   "metadata": {},
   "source": [
    "## Pagination\n",
    "\n",
    "The previous query only returns (up to) the first 100 issues that it finds that meet our criteria. This is an intentional limitation imposed by GitHub's GraphQL schema validation (Don't believe me? Try changing the `first:100` to `first:101` for the `issues` connection). This is a problem for us because we want data on all the open issues in the repo, not just the first or last 100.\n",
    "\n",
    "I had to dig a little deeper to find out how to get past this restriction. I found an answer in the [GraphQL docs on pagination](https://graphql.org/learn/pagination/). Essentially, a cursor is provided to allow us to page through results, so that we can start the next query at a point where the result from the previous query left off.\n",
    "\n",
    "To use this feature, a few small modifications to the previous query:\n",
    "\n",
    "```\n",
    "query {                                                                        \n",
    "  repository(owner:\"numpy\", name:\"numpy\") {                                     \n",
    "    issues(first:100 states:OPEN) {\n",
    "      totalCount\n",
    "      edges {\n",
    "        cursor\n",
    "        node {\n",
    "          number\n",
    "          timelineItems(first:100, itemTypes:CROSS_REFERENCED_EVENT){            \n",
    "            totalCount                                                          \n",
    "          }                                                                     \n",
    "        }                                                                       \n",
    "      }                                                                         \n",
    "    }                                                                           \n",
    "  }                                                                             \n",
    "}\n",
    "```\n",
    "\n",
    "First, we ask for the `totalCount` of the number of issues. This is not required for pagination, but is useful information for us to have to make sure we're getting all the data.\n",
    "We also ask for the `cursor` associated with each `IssueEdgeConnection` in issues. We can then use the cursor value from the last value in each response as input for the next query.\n",
    "For example, running the above query in the explorer gives me the following result (N.B. you may see a different result when running the query in the explorer because the explorer queries real data!):\n",
    "\n",
    "```\n",
    "{\n",
    "  \"data\": {\n",
    "    \"repository\": {\n",
    "      \"issues\": {\n",
    "        \"totalCount\": 1735,\n",
    "        \"edges\": [\n",
    "          {\n",
    "            \"cursor\": \"Y3Vyc29yOnYyOpHOAFoQ1w==\",\n",
    "            \"node\": {\n",
    "              \"timelineItems\": {\n",
    "                \"totalCount\": 3\n",
    "              }\n",
    "            }\n",
    "          },\n",
    "          {\n",
    "            \"cursor\": \"Y3Vyc29yOnYyOpHOAGBBGg==\",\n",
    "            \"node\": {\n",
    "              \"timelineItems\": {\n",
    "                \"totalCount\": 0\n",
    "              }\n",
    "            }\n",
    "          },\n",
    "          \n",
    "          ... 96 MORE ENTRIES REMOVED FOR BREVITY\n",
    "          \n",
    "          {\n",
    "            \"cursor\": \"Y3Vyc29yOnYyOpHOAHX6Mw==\",\n",
    "            \"node\": {\n",
    "              \"timelineItems\": {\n",
    "                \"totalCount\": 4\n",
    "              }\n",
    "            }\n",
    "          },\n",
    "          {\n",
    "            \"cursor\": \"Y3Vyc29yOnYyOpHOAHX6NA==\",\n",
    "            \"node\": {\n",
    "              \"timelineItems\": {\n",
    "                \"totalCount\": 0\n",
    "              }\n",
    "            }\n",
    "          }\n",
    "        ]\n",
    "      }\n",
    "    }\n",
    "  }\n",
    "}\n",
    "```\n",
    "\n",
    "The cursor associated with the last edge is `\"Y3Vyc29yOnYyOpHOAHX6NA==\"`. We can now use this value with the `after` parameter so that our next query starts off where the previous one ended:\n",
    "\n",
    "```\n",
    "query {                                                                        \n",
    "  repository(owner:\"numpy\", name:\"numpy\", after:\"Y3Vyc29yOnYyOpHOAHX6NA==\") {                                     \n",
    "    issues(first:100 states:OPEN) {\n",
    "      totalCount\n",
    "      edges {\n",
    "        cursor\n",
    "        node {\n",
    "          number\n",
    "          timelineItems(first:100, itemTypes:CROSS_REFERENCED_EVENT){            \n",
    "            totalCount                                                          \n",
    "          }                                                                     \n",
    "        }                                                                       \n",
    "      }                                                                         \n",
    "    }                                                                           \n",
    "  }                                                                             \n",
    "}\n",
    "```"
   ]
  },
  {
   "cell_type": "markdown",
   "metadata": {},
   "source": [
    "## Finally - let's answer our question\n",
    "\n",
    "Okay, so now we know we can cycle through results using `cursor` and `after`. It would be really tedious to have to modify our queries by hand in the explorer.\n",
    "\n",
    "I hacked (emphasis on *hacked*) something to make this a little bit easier for our issue queries.\n",
    "Basically, it allows copy queries from the explorer, save them as a file (the query we used above is in `query_examples/totalCount_openIssue_crossrefs.gql`) and automates the pagination through all of the issues.\n",
    "Though ugly, the code in `issues.py` is mercifully short - hopefully it is grok-able."
   ]
  },
  {
   "cell_type": "code",
   "execution_count": 2,
   "metadata": {},
   "outputs": [
    {
     "name": "stdout",
     "output_type": "stream",
     "text": [
      "Retrieving 100 out of 1735 values...\n",
      "Retrieving 200 out of 1735 values...\n",
      "Retrieving 300 out of 1735 values...\n",
      "Retrieving 400 out of 1735 values...\n",
      "Retrieving 500 out of 1735 values...\n",
      "Retrieving 600 out of 1735 values...\n",
      "Retrieving 700 out of 1735 values...\n",
      "Retrieving 800 out of 1735 values...\n",
      "Retrieving 900 out of 1735 values...\n",
      "Retrieving 1000 out of 1735 values...\n",
      "Retrieving 1100 out of 1735 values...\n",
      "Retrieving 1200 out of 1735 values...\n",
      "Retrieving 1300 out of 1735 values...\n",
      "Retrieving 1400 out of 1735 values...\n",
      "Retrieving 1500 out of 1735 values...\n",
      "Retrieving 1600 out of 1735 values...\n",
      "Retrieving 1700 out of 1735 values...\n",
      "Retrieving 1735 out of 1735 values...\n",
      "Done.\n"
     ]
    }
   ],
   "source": [
    "import issues\n",
    "\n",
    "data = issues.get_all_responses('query_examples/totalCount_openIssue_crossrefs.gql')"
   ]
  },
  {
   "cell_type": "markdown",
   "metadata": {},
   "source": [
    "`get_all_responses` parses out the results for each of the issue nodes:"
   ]
  },
  {
   "cell_type": "code",
   "execution_count": 3,
   "metadata": {},
   "outputs": [
    {
     "data": {
      "text/plain": [
       "[{'cursor': 'Y3Vyc29yOnYyOpHOAFoQ1w==',\n",
       "  'node': {'number': 368, 'timelineItems': {'totalCount': 3}}},\n",
       " {'cursor': 'Y3Vyc29yOnYyOpHOAGBBGg==',\n",
       "  'node': {'number': 389, 'timelineItems': {'totalCount': 0}}},\n",
       " {'cursor': 'Y3Vyc29yOnYyOpHOAHXGjg==',\n",
       "  'node': {'number': 573, 'timelineItems': {'totalCount': 2}}},\n",
       " {'cursor': 'Y3Vyc29yOnYyOpHOAHXGlg==',\n",
       "  'node': {'number': 577, 'timelineItems': {'totalCount': 2}}},\n",
       " {'cursor': 'Y3Vyc29yOnYyOpHOAHXGsA==',\n",
       "  'node': {'number': 590, 'timelineItems': {'totalCount': 0}}},\n",
       " {'cursor': 'Y3Vyc29yOnYyOpHOAHXG4Q==',\n",
       "  'node': {'number': 614, 'timelineItems': {'totalCount': 1}}},\n",
       " {'cursor': 'Y3Vyc29yOnYyOpHOAHXG6w==',\n",
       "  'node': {'number': 619, 'timelineItems': {'totalCount': 2}}},\n",
       " {'cursor': 'Y3Vyc29yOnYyOpHOAHXG-g==',\n",
       "  'node': {'number': 626, 'timelineItems': {'totalCount': 1}}},\n",
       " {'cursor': 'Y3Vyc29yOnYyOpHOAHXHAg==',\n",
       "  'node': {'number': 630, 'timelineItems': {'totalCount': 1}}},\n",
       " {'cursor': 'Y3Vyc29yOnYyOpHOAHXHDA==',\n",
       "  'node': {'number': 635, 'timelineItems': {'totalCount': 0}}}]"
      ]
     },
     "execution_count": 3,
     "metadata": {},
     "output_type": "execute_result"
    }
   ],
   "source": [
    "data[:10]"
   ]
  },
  {
   "cell_type": "code",
   "execution_count": 4,
   "metadata": {},
   "outputs": [],
   "source": [
    "# A little manual munging\n",
    "ndata = {\n",
    "    n['node']['number'] : n['node']['timelineItems']['totalCount'] for n in data\n",
    "}"
   ]
  },
  {
   "cell_type": "code",
   "execution_count": 5,
   "metadata": {},
   "outputs": [
    {
     "name": "stdout",
     "output_type": "stream",
     "text": [
      "Issue 7370 : 22 references\n",
      "Issue 5353 : 18 references\n",
      "Issue 11521 : 17 references\n",
      "Issue 11824 : 15 references\n",
      "Issue 641 : 12 references\n",
      "Issue 5312 : 12 references\n",
      "Issue 8325 : 12 references\n",
      "Issue 5745 : 11 references\n",
      "Issue 2776 : 10 references\n",
      "Issue 7753 : 10 references\n"
     ]
    }
   ],
   "source": [
    "# Top 10 most cross-referenced issues\n",
    "for node in sorted(ndata, key=ndata.get, reverse=True)[:10]:\n",
    "    print(\"Issue {} : {} references\".format(node, ndata[node]))"
   ]
  }
 ],
 "metadata": {
  "kernelspec": {
   "display_name": "Python 3",
   "language": "python",
   "name": "python3"
  },
  "language_info": {
   "codemirror_mode": {
    "name": "ipython",
    "version": 3
   },
   "file_extension": ".py",
   "mimetype": "text/x-python",
   "name": "python",
   "nbconvert_exporter": "python",
   "pygments_lexer": "ipython3",
   "version": "3.7.5"
  }
 },
 "nbformat": 4,
 "nbformat_minor": 2
}
