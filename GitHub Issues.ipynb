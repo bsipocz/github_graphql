{
 "cells": [
  {
   "cell_type": "markdown",
   "metadata": {},
   "source": [
    "# Exploring the GitHub GraphQL API "
   ]
  },
  {
   "cell_type": "markdown",
   "metadata": {},
   "source": [
    "Like most open source projects, NumPy has many open issues and pull requests that require developer attention, and not nearly enough developer-hours to address them all. Even the simple task of reading through the issues/PRs would take hours as there are on the order of 1000 open issues and ~200 open PR's for NumPy (as of 1/2020). Thus it might be worthwhile to attempt some sort of analysis to determine the relative *importance* of the open issues. \n",
    "\n",
    "A simple idea would be to look at the number of times any given issue has been cross-referenced as a weak proxy for *importance*, i.e. how often is a particular concept referenced by other developers. A question like this seems like a good match for GitHub's new [GraphQL API](https://developer.github.com/v4/guides/intro-to-graphql/). Note the API is not really about building graphs but rather a different way of formulating queries of GitHub's data. Nevertheless the GraphQL API seems to be well-suited for the type of question we are interested in asking, as it is natural to think of issues as *nodes* and cross-references as *edges*."
   ]
  },
  {
   "cell_type": "markdown",
   "metadata": {},
   "source": [
    "## Getting started with GraphQL\n",
    "\n",
    "I had never heard about GraphQL (and am certainly no expert in database querying), but I found the [Intro to GitHub's GraphQL API](https://developer.github.com/v4/guides/intro-to-graphql/) to be very accessible. \n",
    "\n",
    "The [Github GraphQL Explorer](https://developer.github.com/v4/explorer/) is super useful for building your own queries."
   ]
  },
  {
   "cell_type": "markdown",
   "metadata": {},
   "source": [
    "## The question\n",
    "\n",
    "It helps to have a clear statement of the question we want answered. The simplest statement of our question would be\n",
    "\n",
    "> *How many times has each open issue in the numpy repo been cross-referenced?*\n",
    "\n",
    "If we cast this question in terms of our simple graph model (open issues as *nodes* and cross-references as *edges*), it is clear that we can find the answer by counting the number of edges connected to each node!\n",
    "\n",
    "Of course there are a ton of ways that we could modify this question to make it more specific, necessitating a more complicated query to answer it. We'll get there, but let's start simple."
   ]
  },
  {
   "cell_type": "markdown",
   "metadata": {},
   "source": [
    "## Formulating a query to address the question"
   ]
  },
  {
   "cell_type": "code",
   "execution_count": null,
   "metadata": {},
   "outputs": [],
   "source": []
  }
 ],
 "metadata": {
  "kernelspec": {
   "display_name": "Python 3",
   "language": "python",
   "name": "python3"
  },
  "language_info": {
   "codemirror_mode": {
    "name": "ipython",
    "version": 3
   },
   "file_extension": ".py",
   "mimetype": "text/x-python",
   "name": "python",
   "nbconvert_exporter": "python",
   "pygments_lexer": "ipython3",
   "version": "3.7.5"
  }
 },
 "nbformat": 4,
 "nbformat_minor": 2
}
